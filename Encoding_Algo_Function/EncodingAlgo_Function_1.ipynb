{
 "cells": [
  {
   "cell_type": "code",
   "execution_count": 1,
   "id": "f20dac48",
   "metadata": {},
   "outputs": [],
   "source": [
    "import numpy as np\n",
    "import cv2\n",
    "import os\n",
    "import math\n",
    "from matplotlib import pyplot as plt\n",
    "from numpy.lib.stride_tricks import sliding_window_view"
   ]
  },
  {
   "cell_type": "code",
   "execution_count": 2,
   "id": "894fdde2",
   "metadata": {},
   "outputs": [
    {
     "data": {
      "text/plain": [
       "['i1.jpg', 'i2.jpg', 'i3.jpeg']"
      ]
     },
     "execution_count": 2,
     "metadata": {},
     "output_type": "execute_result"
    }
   ],
   "source": [
    "images_names = os.listdir('D:/Milan/Desktop/projects/CapStoneProject/images')\n",
    "images_names"
   ]
  },
  {
   "cell_type": "code",
   "execution_count": 3,
   "id": "e80a8d35",
   "metadata": {},
   "outputs": [],
   "source": [
    "images = np.array([cv2.imread(f'D:/Milan/Desktop/projects/CapStoneProject/images/{img}') for img in images_names[2:] ])\n",
    "# images = [np.array([\n",
    "#   [[142, 85, 230], [200, 15, 123], [50, 255, 90]], \n",
    "#   [[77, 180, 240], [220, 50, 10], [100, 75, 255]],   \n",
    "#   [[180, 200, 30], [15, 90, 140], [250, 60, 180]]   \n",
    "# ])]"
   ]
  },
  {
   "cell_type": "code",
   "execution_count": 4,
   "id": "1754f586",
   "metadata": {},
   "outputs": [
    {
     "data": {
      "text/plain": [
       "(1, 168, 300, 3)"
      ]
     },
     "execution_count": 4,
     "metadata": {},
     "output_type": "execute_result"
    }
   ],
   "source": [
    "np.array(images).shape"
   ]
  },
  {
   "cell_type": "code",
   "execution_count": null,
   "id": "15ae09c3",
   "metadata": {},
   "outputs": [],
   "source": []
  },
  {
   "cell_type": "code",
   "execution_count": null,
   "id": "b515fc2a",
   "metadata": {},
   "outputs": [],
   "source": []
  },
  {
   "cell_type": "code",
   "execution_count": 63,
   "id": "f1c3f07d",
   "metadata": {
    "scrolled": false
   },
   "outputs": [],
   "source": [
    "def save_bit_planes(bit_planes, output_prefix):\n",
    "    for i, bit_plane in enumerate(bit_planes[0]):\n",
    "        print(cv2.imwrite(f\"{output_prefix}_bit_plane_{7-i}.jpg\", bit_plane))\n",
    "    \n",
    "\n",
    "    \n",
    "def save_amino_acid_to_text_file(matrices,i):\n",
    "    channel_initial = ['r','b','g']\n",
    "    for j,channel in enumerate(matrices):\n",
    "        rows, columns = np.array(channel).shape\n",
    "        file_path =(f\"i{i}_{channel_initial[j]}_amino_acid.txt\")\n",
    "        with open(file_path, 'w') as file:\n",
    "            for row in channel:\n",
    "                line = ''.join(map(str, row))\n",
    "                file.write(line + '\\n')\n",
    "                \n",
    "                \n",
    "        \n",
    "def codon_to_amino_acid():\n",
    "    codon_dict = {\n",
    "        'UUU': 'A', 'UUC': 'A',  # A\n",
    "        'UUA': 'B', 'UUG': 'B',  # B\n",
    "        'UCU': 'C', 'UCC': 'C', 'UCA': 'C', 'UCG': 'C',  # C\n",
    "        'UAU': 'D', 'UAC': 'D',  # D\n",
    "        'UGU': 'E', 'UGC': 'E',  # E\n",
    "        'UGG': 'F',  # F\n",
    "        'CUU': 'G', 'CUC': 'G', 'CUA': 'G', 'CUG': 'G',  # G\n",
    "        'CCU': 'H', 'CCC': 'H', 'CCA': 'H', 'CCG': 'H',    # H\n",
    "        'CAU': 'I', 'CAC': 'I',  # I\n",
    "        'CAA': 'J', 'CAG': 'J',  # J\n",
    "        'CGU': 'K', 'CGC': 'K', 'CGA': 'K', 'CGG': 'K',  # K\n",
    "        'AUU': 'L', 'AUC': 'L', 'AUA': 'L',  # L\n",
    "        'ACU': 'M', 'ACC': 'M', 'ACA': 'M', 'ACG': 'M', # M\n",
    "        'AAU': 'N', 'AAC': 'N',  # N\n",
    "        'AAA': 'O', 'AAG': 'O',  # O\n",
    "        'AGU': 'P', 'AGC': 'P',  # P\n",
    "        'AGA': 'Q', 'AGG': 'Q',  # Q\n",
    "        'GUU': 'R', 'GUC': 'R', 'GUA': 'R', 'GUG': 'R',  # R\n",
    "        'GCU': 'S', 'GCC': 'S', 'GCA': 'S', 'GCG': 'S',  # S\n",
    "        'GAU': 'T', 'GAC': 'T',  # T\n",
    "        'GAA': 'U', 'GAG': 'U',  # U\n",
    "        'GGU': 'V', 'GGC': 'V', 'GGA': 'V', 'GGG': 'V',  # V\n",
    "        'UAA': 'Z', 'UAG': 'Z', 'UGA': 'Z', 'AUG': 'Z',  # Z\n",
    "    }\n",
    "    return codon_dict\n",
    "\n",
    "def get_amino_acid(codon):\n",
    "    codon_dict = codon_to_amino_acid()\n",
    "    return codon_dict.get(codon.upper(), \"Invalid codon\")\n",
    "\n",
    "\n",
    "def make_amino_acid_matrix(matrices):\n",
    "    amino_acid_matrices = []\n",
    "    for channel in matrices:\n",
    "        rows, columns = channel.shape[1:]\n",
    "        amino_acid_matrix = [[0 for _ in range(columns)] for _ in range(rows)]\n",
    "        for x in range(rows):\n",
    "            for y in range(columns):\n",
    "                codon = (channel[0][x][y] + channel[1][x][y] + channel[2][x][y])\n",
    "                amino_acid_matrix[x][y]=get_amino_acid(codon)\n",
    "        amino_acid_matrices.append(amino_acid_matrix)\n",
    "    return amino_acid_matrices\n",
    "\n",
    "\n",
    "def bits_to_dna_matrix(b1, b2, rule):\n",
    "    char_map = {\n",
    "        1: 'ACGU', 2: 'AGCU', 3: 'CAUG', 4: 'GAUC', 5: 'CUAG', \n",
    "        6: 'GUAC', 7: 'UCGA', 8: 'UGCA'\n",
    "    }\n",
    "    return char_map.get(rule, \"Enter valid rule number.\")[(2 * b1 + b2)]\n",
    "\n",
    "\n",
    "\n",
    "def make_DNA_matrices(bit_planes, rule):\n",
    "    matrices= []\n",
    "    for channel in bit_planes:\n",
    "        rows, columns = channel.shape[1:]\n",
    "        matrix = np.array([np.empty((rows,columns), dtype='U6') for _ in range(3)])\n",
    "        for x in range(rows):\n",
    "            for y in range(columns):\n",
    "                for j in range(3):\n",
    "                    j1 = 2 * j + 1\n",
    "                    j2 = 2 * j\n",
    "                    matrix[j][x, y] = bits_to_dna_matrix(channel[j1][x][y], channel[j2][x][y], rule)\n",
    "        matrices.append(matrix)\n",
    "    return matrices\n",
    "\n",
    "\n",
    "\n",
    "def split_image_into_bit_planes(image):\n",
    "    rows, columns = image.shape\n",
    "    bit_plane = np.array([np.zeros((rows,columns), dtype=np.uint8) for _ in range(6)])\n",
    "    for i in range(2,8):\n",
    "        bit_plane[i-2] = (image>>i) & 1\n",
    "#         bit_plane[i-2]*=255\n",
    "    return bit_plane\n",
    "\n",
    "\n",
    "def l3p(amino_acid_matrices):\n",
    "    multiplier = np.array([\n",
    "        [1,2,4],\n",
    "        [128,0,8],\n",
    "        [64,32,16]\n",
    "    ])\n",
    "    amino_acid_matrices = amino_acid_matrices[0]\n",
    "    l3pMatrix = []\n",
    "    for i in range(1,amino_acid_matrices.shape[0]-1):\n",
    "        array = []\n",
    "        for j in range(1, amino_acid_matrices.shape[1]-1):\n",
    "            Pc = amino_acid_matrices[i][j]\n",
    "            filter_ = np.array([\n",
    "                [[Pc]*3]*3\n",
    "            ], dtype='U6')\n",
    "#             print(amino_acid_matrices.shape)\n",
    "            comparision = (filter_ > amino_acid_matrices[i-1:i+2,j-1:j+2]).astype('int')\n",
    "#             print(comparision)\n",
    "            value = np.sum(comparision@multiplier)\n",
    "            array.append(value)\n",
    "        l3pMatrix.append(array)\n",
    "    return l3pMatrix\n",
    "\n",
    "\n",
    "\n",
    "def l3p_alternate(amino_acid_matrices):\n",
    "    # Define the multiplier matrix\n",
    "    multiplier = np.array([\n",
    "        [1, 2, 4],\n",
    "        [128, 0, 8],\n",
    "        [64, 32, 16]\n",
    "    ])\n",
    "    amino_acid_matrices= np.array(amino_acid_matrices[0])\n",
    "\n",
    "    # Get a 3x3 sliding window view of the input matrix\n",
    "    windowed = sliding_window_view(amino_acid_matrices, (3, 3))\n",
    "    print(windowed)\n",
    "\n",
    "    # Get the center elements (1,1) from each window for comparison\n",
    "    Pc = amino_acid_matrices[1:amino_acid_matrices.shape[0]-1, 1:amino_acid_matrices.shape[1]-1]\n",
    "\n",
    "    Center = Pc[..., np.newaxis, np.newaxis]\n",
    "    print(Center)\n",
    "\n",
    "    # Perform the comparison using broadcasting: Pc > window\n",
    "    comparison = (Center < windowed).astype(int)\n",
    "    print(comparison)\n",
    "\n",
    "    # Reshape the multiplier to be broadcastable with the comparison array\n",
    "    multiplier = multiplier.reshape((1, 1, 3, 3))\n",
    "#     print(multiplier)\n",
    "#     print()\n",
    "\n",
    "    # Compute the dot product along the last two dimensions (3x3 window)\n",
    "    print(comparison*multiplier)\n",
    "    l3pMatrix = np.sum(comparison * multiplier, axis=(-2, -1))\n",
    "\n",
    "    return l3pMatrix\n",
    "\n",
    "            \n",
    "    \n",
    "\n",
    "def create_annular_ring_matrix(amino_acid_matrices,k):\n",
    "    print(np.array(amino_acid_matrices).shape)\n",
    "    rows = np.array(amino_acid_matrices).shape[1]\n",
    "    cols = np.array(amino_acid_matrices).shape[2]\n",
    "    row_center = (rows-1)//2\n",
    "    col_center = (cols-1)//2\n",
    "    point1 = np.array((row_center,col_center))\n",
    "    point2 = np.array((rows-1,cols-1))+0.0000001\n",
    "#     point3 = np.array((0,cols))\n",
    "    max_distance = np.linalg.norm(point1-point2)\n",
    "#     max_distance = max(max_distance,np.linalg.norm(point1-point3))\n",
    "    annular_distance = max_distance/k\n",
    "    annular_ring_matrices = []\n",
    "    for channel in amino_acid_matrices:\n",
    "        annular_ring_matrix = [[] for _ in range(k)]\n",
    "        for i in range(rows):\n",
    "            for j in range(cols):\n",
    "                point1 = np.array((row_center,col_center))\n",
    "                point2 = np.array((i,j))\n",
    "                distance = np.linalg.norm(point1-point2)\n",
    "                ring_number = (distance // annular_distance).astype(int)\n",
    "#                 print(ring_number)\n",
    "                annular_ring_matrix[ring_number].append(channel[i][j])\n",
    "        annular_ring_matrices.append(annular_ring_matrix)\n",
    "    return annular_ring_matrices\n",
    "        \n",
    "        \n",
    "        \n",
    "\n",
    "def Encoding_images(images, rule):\n",
    "    for i,image in enumerate(images):\n",
    "        bit_planes = []\n",
    "        DNA_matrices = []\n",
    "        amino_acid_matrices = []\n",
    "        r_channel, g_channel, b_channel = image[:,:,2] , image[:,:,1],image[:,:,0]\n",
    "        channel_list = [r_channel, g_channel, b_channel]\n",
    "        for m,channel in enumerate(channel_list):\n",
    "            print(m)\n",
    "            bit_planes.append(split_image_into_bit_planes(channel))\n",
    "        print(\"bit_planes_bangaya\")\n",
    "        DNA_matrices = make_DNA_matrices(bit_planes, rule)\n",
    "        print(\"DNA_Matrix_bangaya\")\n",
    "        amino_acid_matrices = make_amino_acid_matrix(DNA_matrices)\n",
    "        print(\"AA_bangaya\")\n",
    "        save_amino_acid_to_text_file(amino_acid_matrices,i)\n",
    "        print(\"Save Ho Gaya\")\n",
    "        k=4\n",
    "        annular_ring_matrix = create_annular_ring_matrix(amino_acid_matrices,k)\n",
    "#         l3pMatrix = l3p(np.array(amino_acid_matrices))\n",
    "#         l3pMatrix = l3p_alternate(amino_acid_matrices)\n",
    "        \n",
    "#         print(l3pMatrix)\n",
    "#         save_bit_planes(bit_planes, f\"output{i}\")\n",
    "#     print((bit_planes))"
   ]
  },
  {
   "cell_type": "code",
   "execution_count": 64,
   "id": "b0923ad5",
   "metadata": {},
   "outputs": [
    {
     "name": "stdout",
     "output_type": "stream",
     "text": [
      "0\n",
      "1\n",
      "2\n",
      "bit_planes_bangaya\n",
      "DNA_Matrix_bangaya\n",
      "AA_bangaya\n",
      "Save Ho Gaya\n",
      "(3, 168, 300)\n"
     ]
    }
   ],
   "source": [
    "Encoding_images(images,7)\n",
    "# images stored at :  C:\\Users\\milan\\CapStone_Project"
   ]
  },
  {
   "cell_type": "markdown",
   "id": "6d66a169",
   "metadata": {},
   "source": [
    "# Colour channel wala overwrite ho rha hai\n",
    "\n",
    "```python\n",
    "     print(channel[j1][x][y],\",\",channel[j2][x][y])\n",
    "                    matrix[j][x, y] = bits_to_dna_matrix(channel[j1][x][y], channel[j2][x][y], rule)\n",
    "    print(matrix)\n",
    "```\n"
   ]
  },
  {
   "cell_type": "code",
   "execution_count": 7,
   "id": "286ee376",
   "metadata": {},
   "outputs": [],
   "source": [
    "mat1 = np.array([['E' ,'E', 'V'],\n",
    "   ['D', 'E' ,'H'],\n",
    "   ['V', 'L', 'E']], dtype = 'U6')"
   ]
  },
  {
   "cell_type": "code",
   "execution_count": 8,
   "id": "e5068879",
   "metadata": {},
   "outputs": [],
   "source": [
    "mat2 = np.array([['E']],dtype='U6')"
   ]
  },
  {
   "cell_type": "code",
   "execution_count": 9,
   "id": "ff8e4498",
   "metadata": {},
   "outputs": [
    {
     "data": {
      "text/plain": [
       "[None, None, None]"
      ]
     },
     "execution_count": 9,
     "metadata": {},
     "output_type": "execute_result"
    }
   ],
   "source": [
    "ann = []\n",
    "k=3\n",
    "ann1 = [ann.extend([1,]) for i in range(k)]\n",
    "ann1"
   ]
  },
  {
   "cell_type": "code",
   "execution_count": 10,
   "id": "9fda827c",
   "metadata": {},
   "outputs": [
    {
     "data": {
      "text/plain": [
       "[[], [], []]"
      ]
     },
     "execution_count": 10,
     "metadata": {},
     "output_type": "execute_result"
    }
   ],
   "source": [
    "l = [[] for _ in range(3)]\n",
    "l"
   ]
  },
  {
   "cell_type": "code",
   "execution_count": null,
   "id": "45216e6f",
   "metadata": {},
   "outputs": [],
   "source": []
  }
 ],
 "metadata": {
  "kernelspec": {
   "display_name": "Python 3 (ipykernel)",
   "language": "python",
   "name": "python3"
  },
  "language_info": {
   "codemirror_mode": {
    "name": "ipython",
    "version": 3
   },
   "file_extension": ".py",
   "mimetype": "text/x-python",
   "name": "python",
   "nbconvert_exporter": "python",
   "pygments_lexer": "ipython3",
   "version": "3.11.7"
  }
 },
 "nbformat": 4,
 "nbformat_minor": 5
}
